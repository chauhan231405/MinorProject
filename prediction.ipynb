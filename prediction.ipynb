{
 "cells": [
  {
   "cell_type": "code",
   "execution_count": 2,
   "metadata": {},
   "outputs": [],
   "source": [
    "# Step 1: Import Libraries and Load the Model\n",
    "import numpy as np\n",
    "import tensorflow as tf\n",
    "from tensorflow.keras.datasets import imdb\n",
    "from tensorflow.keras.preprocessing import sequence\n",
    "from tensorflow.keras.models import load_model"
   ]
  },
  {
   "cell_type": "code",
   "execution_count": 3,
   "metadata": {},
   "outputs": [],
   "source": [
    "\n",
    "# Loading the IMDB dataset word index\n",
    "word_index = imdb.get_word_index()\n",
    "reverse_word_index = {value: key for key, value in word_index.items()}"
   ]
  },
  {
   "cell_type": "code",
   "execution_count": 4,
   "metadata": {},
   "outputs": [
    {
     "name": "stderr",
     "output_type": "stream",
     "text": [
      "WARNING:absl:Compiled the loaded model, but the compiled metrics have yet to be built. `model.compile_metrics` will be empty until you train or evaluate the model.\n"
     ]
    },
    {
     "data": {
      "text/html": [
       "<pre style=\"white-space:pre;overflow-x:auto;line-height:normal;font-family:Menlo,'DejaVu Sans Mono',consolas,'Courier New',monospace\"><span style=\"font-weight: bold\">Model: \"sequential_1\"</span>\n",
       "</pre>\n"
      ],
      "text/plain": [
       "\u001b[1mModel: \"sequential_1\"\u001b[0m\n"
      ]
     },
     "metadata": {},
     "output_type": "display_data"
    },
    {
     "data": {
      "text/html": [
       "<pre style=\"white-space:pre;overflow-x:auto;line-height:normal;font-family:Menlo,'DejaVu Sans Mono',consolas,'Courier New',monospace\">┏━━━━━━━━━━━━━━━━━━━━━━━━━━━━━━━━━┳━━━━━━━━━━━━━━━━━━━━━━━━┳━━━━━━━━━━━━━━━┓\n",
       "┃<span style=\"font-weight: bold\"> Layer (type)                    </span>┃<span style=\"font-weight: bold\"> Output Shape           </span>┃<span style=\"font-weight: bold\">       Param # </span>┃\n",
       "┡━━━━━━━━━━━━━━━━━━━━━━━━━━━━━━━━━╇━━━━━━━━━━━━━━━━━━━━━━━━╇━━━━━━━━━━━━━━━┩\n",
       "│ embedding_1 (<span style=\"color: #0087ff; text-decoration-color: #0087ff\">Embedding</span>)         │ (<span style=\"color: #00d7ff; text-decoration-color: #00d7ff\">None</span>, <span style=\"color: #00af00; text-decoration-color: #00af00\">500</span>, <span style=\"color: #00af00; text-decoration-color: #00af00\">128</span>)       │     <span style=\"color: #00af00; text-decoration-color: #00af00\">1,280,000</span> │\n",
       "├─────────────────────────────────┼────────────────────────┼───────────────┤\n",
       "│ simple_rnn_1 (<span style=\"color: #0087ff; text-decoration-color: #0087ff\">SimpleRNN</span>)        │ (<span style=\"color: #00d7ff; text-decoration-color: #00d7ff\">None</span>, <span style=\"color: #00af00; text-decoration-color: #00af00\">128</span>)            │        <span style=\"color: #00af00; text-decoration-color: #00af00\">32,896</span> │\n",
       "├─────────────────────────────────┼────────────────────────┼───────────────┤\n",
       "│ dense_1 (<span style=\"color: #0087ff; text-decoration-color: #0087ff\">Dense</span>)                 │ (<span style=\"color: #00d7ff; text-decoration-color: #00d7ff\">None</span>, <span style=\"color: #00af00; text-decoration-color: #00af00\">1</span>)              │           <span style=\"color: #00af00; text-decoration-color: #00af00\">129</span> │\n",
       "└─────────────────────────────────┴────────────────────────┴───────────────┘\n",
       "</pre>\n"
      ],
      "text/plain": [
       "┏━━━━━━━━━━━━━━━━━━━━━━━━━━━━━━━━━┳━━━━━━━━━━━━━━━━━━━━━━━━┳━━━━━━━━━━━━━━━┓\n",
       "┃\u001b[1m \u001b[0m\u001b[1mLayer (type)                   \u001b[0m\u001b[1m \u001b[0m┃\u001b[1m \u001b[0m\u001b[1mOutput Shape          \u001b[0m\u001b[1m \u001b[0m┃\u001b[1m \u001b[0m\u001b[1m      Param #\u001b[0m\u001b[1m \u001b[0m┃\n",
       "┡━━━━━━━━━━━━━━━━━━━━━━━━━━━━━━━━━╇━━━━━━━━━━━━━━━━━━━━━━━━╇━━━━━━━━━━━━━━━┩\n",
       "│ embedding_1 (\u001b[38;5;33mEmbedding\u001b[0m)         │ (\u001b[38;5;45mNone\u001b[0m, \u001b[38;5;34m500\u001b[0m, \u001b[38;5;34m128\u001b[0m)       │     \u001b[38;5;34m1,280,000\u001b[0m │\n",
       "├─────────────────────────────────┼────────────────────────┼───────────────┤\n",
       "│ simple_rnn_1 (\u001b[38;5;33mSimpleRNN\u001b[0m)        │ (\u001b[38;5;45mNone\u001b[0m, \u001b[38;5;34m128\u001b[0m)            │        \u001b[38;5;34m32,896\u001b[0m │\n",
       "├─────────────────────────────────┼────────────────────────┼───────────────┤\n",
       "│ dense_1 (\u001b[38;5;33mDense\u001b[0m)                 │ (\u001b[38;5;45mNone\u001b[0m, \u001b[38;5;34m1\u001b[0m)              │           \u001b[38;5;34m129\u001b[0m │\n",
       "└─────────────────────────────────┴────────────────────────┴───────────────┘\n"
      ]
     },
     "metadata": {},
     "output_type": "display_data"
    },
    {
     "data": {
      "text/html": [
       "<pre style=\"white-space:pre;overflow-x:auto;line-height:normal;font-family:Menlo,'DejaVu Sans Mono',consolas,'Courier New',monospace\"><span style=\"font-weight: bold\"> Total params: </span><span style=\"color: #00af00; text-decoration-color: #00af00\">1,313,027</span> (5.01 MB)\n",
       "</pre>\n"
      ],
      "text/plain": [
       "\u001b[1m Total params: \u001b[0m\u001b[38;5;34m1,313,027\u001b[0m (5.01 MB)\n"
      ]
     },
     "metadata": {},
     "output_type": "display_data"
    },
    {
     "data": {
      "text/html": [
       "<pre style=\"white-space:pre;overflow-x:auto;line-height:normal;font-family:Menlo,'DejaVu Sans Mono',consolas,'Courier New',monospace\"><span style=\"font-weight: bold\"> Trainable params: </span><span style=\"color: #00af00; text-decoration-color: #00af00\">1,313,025</span> (5.01 MB)\n",
       "</pre>\n"
      ],
      "text/plain": [
       "\u001b[1m Trainable params: \u001b[0m\u001b[38;5;34m1,313,025\u001b[0m (5.01 MB)\n"
      ]
     },
     "metadata": {},
     "output_type": "display_data"
    },
    {
     "data": {
      "text/html": [
       "<pre style=\"white-space:pre;overflow-x:auto;line-height:normal;font-family:Menlo,'DejaVu Sans Mono',consolas,'Courier New',monospace\"><span style=\"font-weight: bold\"> Non-trainable params: </span><span style=\"color: #00af00; text-decoration-color: #00af00\">0</span> (0.00 B)\n",
       "</pre>\n"
      ],
      "text/plain": [
       "\u001b[1m Non-trainable params: \u001b[0m\u001b[38;5;34m0\u001b[0m (0.00 B)\n"
      ]
     },
     "metadata": {},
     "output_type": "display_data"
    },
    {
     "data": {
      "text/html": [
       "<pre style=\"white-space:pre;overflow-x:auto;line-height:normal;font-family:Menlo,'DejaVu Sans Mono',consolas,'Courier New',monospace\"><span style=\"font-weight: bold\"> Optimizer params: </span><span style=\"color: #00af00; text-decoration-color: #00af00\">2</span> (12.00 B)\n",
       "</pre>\n"
      ],
      "text/plain": [
       "\u001b[1m Optimizer params: \u001b[0m\u001b[38;5;34m2\u001b[0m (12.00 B)\n"
      ]
     },
     "metadata": {},
     "output_type": "display_data"
    }
   ],
   "source": [
    "# Loading the pre-trained model with ReLU activation\n",
    "model = load_model('simple_rnn_imdb.h5')\n",
    "model.summary()"
   ]
  },
  {
   "cell_type": "code",
   "execution_count": 5,
   "metadata": {},
   "outputs": [
    {
     "data": {
      "text/plain": [
       "[array([[ 0.02790851, -0.06421594, -0.01028275, ..., -0.04625121,\n",
       "         -0.02747178, -0.00311205],\n",
       "        [-0.01880792, -0.03932872,  0.05614267, ...,  0.02782427,\n",
       "         -0.05811699,  0.02582723],\n",
       "        [-0.02409655, -0.01176031, -0.02670181, ..., -0.00931888,\n",
       "         -0.05251184,  0.0135169 ],\n",
       "        ...,\n",
       "        [-0.01695335, -0.01819863, -0.02618401, ...,  0.02976506,\n",
       "          0.02360036,  0.01338501],\n",
       "        [ 0.05154515,  0.05431464, -0.04432263, ...,  0.10305238,\n",
       "          0.05862668,  0.06190393],\n",
       "        [-0.07255898, -0.02517462, -0.07352865, ..., -0.07124963,\n",
       "          0.0086919 ,  0.11296193]], dtype=float32),\n",
       " array([[ 0.09069595,  0.0619684 , -0.06735253, ..., -0.08461757,\n",
       "          0.05858561,  0.07217116],\n",
       "        [ 0.01867785,  0.07459971, -0.096659  , ...,  0.04481547,\n",
       "         -0.12235901,  0.16156085],\n",
       "        [-0.00604311, -0.09555971, -0.08830945, ..., -0.03076414,\n",
       "         -0.0438996 , -0.03158575],\n",
       "        ...,\n",
       "        [ 0.05690157, -0.03844729, -0.03711585, ...,  0.23133808,\n",
       "         -0.12369891, -0.11026379],\n",
       "        [ 0.13152497, -0.05223307, -0.08568396, ..., -0.04155649,\n",
       "          0.15125301, -0.06346886],\n",
       "        [ 0.10925344,  0.14775307,  0.09966795, ...,  0.00033482,\n",
       "         -0.04015036,  0.1226518 ]], dtype=float32),\n",
       " array([[-0.03876404,  0.10315917,  0.0843763 , ...,  0.15729752,\n",
       "         -0.08819301, -0.00021217],\n",
       "        [ 0.18755864, -0.12234312,  0.07565124, ...,  0.01414276,\n",
       "          0.02990058,  0.07137056],\n",
       "        [ 0.17568971, -0.00310176,  0.10623407, ..., -0.02850782,\n",
       "          0.04808312,  0.04275178],\n",
       "        ...,\n",
       "        [ 0.14523739,  0.0589474 ,  0.01562008, ...,  0.20816834,\n",
       "         -0.18223453, -0.02537438],\n",
       "        [ 0.05002105, -0.09904269, -0.08707351, ...,  0.02593616,\n",
       "         -0.1315558 ,  0.11345109],\n",
       "        [-0.08659551,  0.05650839, -0.11148617, ...,  0.09154892,\n",
       "          0.05753917, -0.01427281]], dtype=float32),\n",
       " array([-0.0105361 , -0.00869567, -0.01385196, -0.01627285,  0.01423521,\n",
       "         0.0057079 ,  0.01281851,  0.01938188, -0.00698032, -0.00662043,\n",
       "        -0.00147777, -0.00397984, -0.02623778, -0.01078404,  0.00533782,\n",
       "        -0.00962347,  0.00543557, -0.00882092,  0.013438  , -0.00394658,\n",
       "         0.01456826,  0.00516749,  0.00044176, -0.00017141, -0.01189602,\n",
       "        -0.00675836, -0.01906779,  0.01226495, -0.00056541, -0.00023865,\n",
       "        -0.01154635, -0.0047782 , -0.00561198, -0.00489634, -0.01587092,\n",
       "         0.00356391, -0.0127553 , -0.008221  , -0.00867849, -0.01473762,\n",
       "         0.02377791, -0.02767284,  0.00542003, -0.00467234, -0.01399578,\n",
       "         0.0064676 ,  0.00752687, -0.01171521,  0.01129522, -0.01083224,\n",
       "         0.00078117, -0.01285354, -0.01126802,  0.01253094,  0.01077415,\n",
       "         0.02084989, -0.00101562, -0.00834564,  0.0008732 ,  0.0010291 ,\n",
       "        -0.00120227,  0.02111792, -0.01400253, -0.01688083,  0.01360999,\n",
       "        -0.01510572, -0.02010866, -0.03073642,  0.02302135, -0.00510311,\n",
       "         0.0070958 , -0.00156765, -0.01120938,  0.00189431, -0.01013076,\n",
       "         0.02045545,  0.0109927 ,  0.01160559,  0.00130278, -0.01902889,\n",
       "        -0.02907389, -0.01308982, -0.01756487, -0.00243987, -0.00919897,\n",
       "        -0.0075416 ,  0.01053465,  0.00700569,  0.00785291, -0.00771679,\n",
       "        -0.01075451, -0.00974415, -0.00448981, -0.00922372,  0.0237114 ,\n",
       "         0.00622209,  0.00503986,  0.0200466 , -0.00304486, -0.00340197,\n",
       "         0.00721697, -0.00880099, -0.01374608, -0.00704047, -0.00706569,\n",
       "        -0.00558979,  0.01755869,  0.01447161,  0.01514576, -0.00676696,\n",
       "         0.0007723 , -0.01350674, -0.0146494 , -0.00276301, -0.0083185 ,\n",
       "         0.00314659, -0.02426012, -0.00047634,  0.01176616, -0.00304538,\n",
       "        -0.00338279,  0.01482085, -0.00833314,  0.0208739 ,  0.01991947,\n",
       "         0.04969192, -0.02895296,  0.00415711], dtype=float32),\n",
       " array([[-0.14621331],\n",
       "        [-0.05333689],\n",
       "        [ 0.17239921],\n",
       "        [-0.16581754],\n",
       "        [ 0.19377029],\n",
       "        [ 0.30142567],\n",
       "        [-0.11492577],\n",
       "        [ 0.4356452 ],\n",
       "        [-0.07590751],\n",
       "        [-0.14709164],\n",
       "        [ 0.11177133],\n",
       "        [-0.14459942],\n",
       "        [-0.1786919 ],\n",
       "        [ 0.01606198],\n",
       "        [ 0.10490253],\n",
       "        [-0.11408666],\n",
       "        [-0.05504543],\n",
       "        [ 0.12415795],\n",
       "        [ 0.25601324],\n",
       "        [ 0.0435336 ],\n",
       "        [-0.07980936],\n",
       "        [-0.04206673],\n",
       "        [-0.19236241],\n",
       "        [ 0.12113105],\n",
       "        [ 0.10727894],\n",
       "        [-0.1636116 ],\n",
       "        [ 0.05488856],\n",
       "        [ 0.08472305],\n",
       "        [-0.12177216],\n",
       "        [ 0.03708667],\n",
       "        [-0.10949971],\n",
       "        [-0.08495807],\n",
       "        [-0.13706523],\n",
       "        [-0.06270623],\n",
       "        [-0.07754445],\n",
       "        [ 0.20905481],\n",
       "        [-0.12934315],\n",
       "        [-0.35023433],\n",
       "        [-0.13077512],\n",
       "        [-0.0219476 ],\n",
       "        [ 0.22336213],\n",
       "        [-0.21934268],\n",
       "        [-0.17766158],\n",
       "        [-0.19188084],\n",
       "        [ 0.23540682],\n",
       "        [-0.07082977],\n",
       "        [ 0.0558171 ],\n",
       "        [-0.11344658],\n",
       "        [ 0.12665702],\n",
       "        [-0.01554563],\n",
       "        [-0.17909051],\n",
       "        [ 0.0416466 ],\n",
       "        [-0.21123257],\n",
       "        [-0.12605715],\n",
       "        [-0.03904631],\n",
       "        [ 0.35240516],\n",
       "        [-0.08635184],\n",
       "        [ 0.10504244],\n",
       "        [-0.02986876],\n",
       "        [ 0.08713706],\n",
       "        [-0.05985513],\n",
       "        [ 0.26694307],\n",
       "        [-0.250036  ],\n",
       "        [-0.08623181],\n",
       "        [-0.3306742 ],\n",
       "        [-0.0602695 ],\n",
       "        [-0.25514632],\n",
       "        [ 0.05305696],\n",
       "        [ 0.10612451],\n",
       "        [-0.11032313],\n",
       "        [ 0.07181999],\n",
       "        [-0.4295271 ],\n",
       "        [-0.17857118],\n",
       "        [ 0.23102994],\n",
       "        [ 0.08903286],\n",
       "        [ 0.21933265],\n",
       "        [ 0.06879187],\n",
       "        [-0.10730246],\n",
       "        [ 0.17746732],\n",
       "        [ 0.16453578],\n",
       "        [ 0.10865919],\n",
       "        [ 0.1588633 ],\n",
       "        [ 0.1283304 ],\n",
       "        [ 0.03086957],\n",
       "        [-0.11178756],\n",
       "        [-0.22365198],\n",
       "        [-0.04408263],\n",
       "        [-0.08392255],\n",
       "        [ 0.14414339],\n",
       "        [ 0.27845556],\n",
       "        [-0.20040397],\n",
       "        [-0.11436713],\n",
       "        [-0.1416573 ],\n",
       "        [-0.02124495],\n",
       "        [ 0.26413095],\n",
       "        [ 0.22369128],\n",
       "        [-0.09289441],\n",
       "        [-0.10562426],\n",
       "        [-0.12497438],\n",
       "        [ 0.10832354],\n",
       "        [-0.13461867],\n",
       "        [-0.1602855 ],\n",
       "        [ 0.20693594],\n",
       "        [-0.20015383],\n",
       "        [-0.14094906],\n",
       "        [-0.10095886],\n",
       "        [-0.06928506],\n",
       "        [ 0.36272103],\n",
       "        [ 0.24868056],\n",
       "        [-0.09601647],\n",
       "        [ 0.20736149],\n",
       "        [ 0.25755218],\n",
       "        [ 0.29143032],\n",
       "        [ 0.01208066],\n",
       "        [-0.16632763],\n",
       "        [ 0.00323862],\n",
       "        [-0.1577156 ],\n",
       "        [ 0.038979  ],\n",
       "        [ 0.01822822],\n",
       "        [-0.04413378],\n",
       "        [-0.4097405 ],\n",
       "        [ 0.13138984],\n",
       "        [-0.1124341 ],\n",
       "        [ 0.31324434],\n",
       "        [ 0.21302676],\n",
       "        [-0.20125675],\n",
       "        [-0.17454934],\n",
       "        [ 0.02195556]], dtype=float32),\n",
       " array([-0.49384192], dtype=float32)]"
      ]
     },
     "execution_count": 5,
     "metadata": {},
     "output_type": "execute_result"
    }
   ],
   "source": [
    "model.get_weights()"
   ]
  },
  {
   "cell_type": "code",
   "execution_count": 6,
   "metadata": {},
   "outputs": [],
   "source": [
    "# Step 2: Helper Functions\n",
    "# Function to decode reviews\n",
    "def decode_review(encoded_review):\n",
    "    return ' '.join([reverse_word_index.get(i - 3, '?') for i in encoded_review])\n",
    "\n",
    "# Function to preprocess user input\n",
    "def preprocess_text(text):\n",
    "    words = text.lower().split()\n",
    "    encoded_review = [word_index.get(word, 2) + 3 for word in words]\n",
    "    padded_review = sequence.pad_sequences([encoded_review], maxlen=500)\n",
    "    return padded_review"
   ]
  },
  {
   "cell_type": "code",
   "execution_count": 7,
   "metadata": {},
   "outputs": [],
   "source": [
    "### Prediction  function\n",
    "\n",
    "def predict_sentiment(review):\n",
    "    preprocessed_input=preprocess_text(review)\n",
    "\n",
    "    prediction=model.predict(preprocessed_input)\n",
    "\n",
    "    sentiment = 'Positive' if prediction[0][0] > 0.5 else 'Negative'\n",
    "    \n",
    "    return sentiment, prediction[0][0]\n",
    "\n"
   ]
  },
  {
   "cell_type": "code",
   "execution_count": 8,
   "metadata": {},
   "outputs": [
    {
     "name": "stdout",
     "output_type": "stream",
     "text": [
      "\u001b[1m1/1\u001b[0m \u001b[32m━━━━━━━━━━━━━━━━━━━━\u001b[0m\u001b[37m\u001b[0m \u001b[1m1s\u001b[0m 645ms/step\n",
      "Review: This movie was fantastic! The acting was great and the plot was thrilling.\n",
      "Sentiment: Positive\n",
      "Prediction Score: 0.6972185373306274\n"
     ]
    }
   ],
   "source": [
    "# Step 4: User Input and Prediction\n",
    "# Example review for prediction\n",
    "example_review = \"This movie was fantastic! The acting was great and the plot was thrilling.\"\n",
    "\n",
    "sentiment,score=predict_sentiment(example_review)\n",
    "\n",
    "print(f'Review: {example_review}')\n",
    "print(f'Sentiment: {sentiment}')\n",
    "print(f'Prediction Score: {score}')"
   ]
  },
  {
   "cell_type": "code",
   "execution_count": null,
   "metadata": {},
   "outputs": [],
   "source": []
  }
 ],
 "metadata": {
  "kernelspec": {
   "display_name": "venv",
   "language": "python",
   "name": "python3"
  },
  "language_info": {
   "codemirror_mode": {
    "name": "ipython",
    "version": 3
   },
   "file_extension": ".py",
   "mimetype": "text/x-python",
   "name": "python",
   "nbconvert_exporter": "python",
   "pygments_lexer": "ipython3",
   "version": "3.11.0"
  }
 },
 "nbformat": 4,
 "nbformat_minor": 2
}
